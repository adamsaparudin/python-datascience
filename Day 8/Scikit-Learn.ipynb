{
 "cells": [
  {
   "cell_type": "code",
   "execution_count": null,
   "metadata": {},
   "outputs": [],
   "source": [
    "!pip install scikit-learn"
   ]
  },
  {
   "cell_type": "code",
   "execution_count": null,
   "metadata": {},
   "outputs": [],
   "source": [
    "import numpy as np\n",
    "import matplotlib.pyplot as plt\n",
    "from matplotlib import cm\n",
    "\n",
    "from sklearn.datasets import make_blobs\n",
    "from sklearn.naive_bayes import GaussianNB\n",
    "from sklearn.metrics import brier_score_loss\n",
    "from sklearn.calibration import CalibratedClassifierCV\n",
    "from sklearn.model_selection import train_test_split\n",
    "\n",
    "\n",
    "n_samples = 50000\n",
    "# Generate 3 blobs with 2 classes where the second blob contains\n",
    "# half positive samples and half negative samples. Probability in this\n",
    "# blob is therefore 0.5.\n",
    "centers = [(-5, -5), (0, 0), (5, 5)]\n",
    "X, y = make_blobs(n_samples=n_samples, n_features=2, cluster_std=1.0,\n",
    "                  centers=centers, shuffle=False, random_state=42)\n",
    "\n",
    "y[:n_samples // 2] = 0\n",
    "y[n_samples // 2:] = 1\n",
    "sample_weight = np.random.RandomState(42).rand(y.shape[0])\n",
    "\n",
    "# split train, test for calibration\n",
    "X_train, X_test, y_train, y_test, sw_train, sw_test = \\\n",
    "    train_test_split(X, y, sample_weight, test_size=0.9, random_state=42)\n",
    "\n",
    "# Gaussian Naive-Bayes with no calibration\n",
    "clf = GaussianNB()\n",
    "clf.fit(X_train, y_train)  # GaussianNB itself does not support sample-weights\n",
    "prob_pos_clf = clf.predict_proba(X_test)[:, 1]\n",
    "\n",
    "# Gaussian Naive-Bayes with isotonic calibration\n",
    "clf_isotonic = CalibratedClassifierCV(clf, cv=2, method='isotonic')\n",
    "clf_isotonic.fit(X_train, y_train, sw_train)\n",
    "prob_pos_isotonic = clf_isotonic.predict_proba(X_test)[:, 1]\n",
    "\n",
    "# Gaussian Naive-Bayes with sigmoid calibration\n",
    "clf_sigmoid = CalibratedClassifierCV(clf, cv=2, method='sigmoid')\n",
    "clf_sigmoid.fit(X_train, y_train, sw_train)\n",
    "prob_pos_sigmoid = clf_sigmoid.predict_proba(X_test)[:, 1]\n",
    "\n",
    "print(\"Brier scores: (the smaller the better)\")\n",
    "\n",
    "clf_score = brier_score_loss(y_test, prob_pos_clf, sw_test)\n",
    "print(\"No calibration: %1.3f\" % clf_score)\n",
    "\n",
    "clf_isotonic_score = brier_score_loss(y_test, prob_pos_isotonic, sw_test)\n",
    "print(\"With isotonic calibration: %1.3f\" % clf_isotonic_score)\n",
    "\n",
    "clf_sigmoid_score = brier_score_loss(y_test, prob_pos_sigmoid, sw_test)\n",
    "print(\"With sigmoid calibration: %1.3f\" % clf_sigmoid_score)"
   ]
  },
  {
   "cell_type": "code",
   "execution_count": null,
   "metadata": {},
   "outputs": [],
   "source": [
    "# Plot the data and the predicted probabilities\n",
    "plt.figure()\n",
    "y_unique = np.unique(y)\n",
    "colors = cm.rainbow(np.linspace(0.0, 1.0, y_unique.size))\n",
    "for this_y, color in zip(y_unique, colors):\n",
    "    this_X = X_train[y_train == this_y]\n",
    "    this_sw = sw_train[y_train == this_y]\n",
    "    plt.scatter(this_X[:, 0], this_X[:, 1], s=this_sw * 50, c=color,\n",
    "                alpha=0.5, edgecolor='k',\n",
    "                label=\"Class %s\" % this_y)\n",
    "plt.legend(loc=\"best\")\n",
    "plt.title(\"Data\")\n",
    "\n",
    "plt.figure()\n",
    "order = np.lexsort((prob_pos_clf, ))\n",
    "plt.plot(prob_pos_clf[order], 'r', label='No calibration (%1.3f)' % clf_score)\n",
    "plt.plot(prob_pos_isotonic[order], 'g', linewidth=3,\n",
    "         label='Isotonic calibration (%1.3f)' % clf_isotonic_score)\n",
    "plt.plot(prob_pos_sigmoid[order], 'b', linewidth=3,\n",
    "         label='Sigmoid calibration (%1.3f)' % clf_sigmoid_score)\n",
    "plt.plot(np.linspace(0, y_test.size, 51)[1::2],\n",
    "         y_test[order].reshape(25, -1).mean(1),\n",
    "         'k', linewidth=3, label=r'Empirical')\n",
    "plt.ylim([-0.05, 1.05])\n",
    "plt.xlabel(\"Instances sorted according to predicted probability \"\n",
    "           \"(uncalibrated GNB)\")\n",
    "plt.ylabel(\"P(y=1)\")\n",
    "plt.legend(loc=\"upper left\")\n",
    "plt.title(\"Gaussian naive Bayes probabilities\")\n",
    "\n",
    "plt.show()"
   ]
  },
  {
   "cell_type": "code",
   "execution_count": null,
   "metadata": {},
   "outputs": [],
   "source": [
    "import numpy as np\n",
    "import matplotlib.pyplot as plt\n",
    "from matplotlib import cm\n",
    "\n",
    "from sklearn.datasets import make_blobs\n",
    "from sklearn.naive_bayes import GaussianNB\n",
    "from sklearn.metrics import brier_score_loss\n",
    "from sklearn.calibration import CalibratedClassifierCV\n",
    "from sklearn.model_selection import train_test_split\n",
    "\n",
    "\n",
    "n_samples = 50000\n",
    "n_bins = 3  # use 3 bins for calibration_curve as we have 3 clusters here\n",
    "\n",
    "# Generate 3 blobs with 2 classes where the second blob contains\n",
    "# half positive samples and half negative samples. Probability in this\n",
    "# blob is therefore 0.5.\n",
    "centers = [(-5, -5), (0, 0), (5, 5)]\n",
    "X, y = make_blobs(n_samples=n_samples, n_features=2, cluster_std=1.0,\n",
    "                  centers=centers, shuffle=False, random_state=42)\n",
    "\n"
   ]
  },
  {
   "cell_type": "code",
   "execution_count": null,
   "metadata": {},
   "outputs": [],
   "source": [
    "X"
   ]
  },
  {
   "cell_type": "code",
   "execution_count": null,
   "metadata": {},
   "outputs": [],
   "source": [
    "y"
   ]
  },
  {
   "cell_type": "code",
   "execution_count": null,
   "metadata": {},
   "outputs": [],
   "source": []
  },
  {
   "cell_type": "code",
   "execution_count": 18,
   "metadata": {},
   "outputs": [],
   "source": [
    "import numpy as np\n",
    "from sklearn.naive_bayes import GaussianNB"
   ]
  },
  {
   "cell_type": "code",
   "execution_count": 19,
   "metadata": {},
   "outputs": [],
   "source": [
    "X = np.array([[-1, -1], [-2, -1], [-3, -2], [1, 1], [2, 1], [3, 2]])"
   ]
  },
  {
   "cell_type": "code",
   "execution_count": 20,
   "metadata": {},
   "outputs": [],
   "source": [
    "Y = np.array([1, 1, 1, 2, 2, 2])"
   ]
  },
  {
   "cell_type": "code",
   "execution_count": null,
   "metadata": {},
   "outputs": [],
   "source": []
  },
  {
   "cell_type": "code",
   "execution_count": null,
   "metadata": {},
   "outputs": [],
   "source": []
  },
  {
   "cell_type": "code",
   "execution_count": null,
   "metadata": {},
   "outputs": [],
   "source": []
  },
  {
   "cell_type": "code",
   "execution_count": null,
   "metadata": {},
   "outputs": [],
   "source": []
  },
  {
   "cell_type": "code",
   "execution_count": null,
   "metadata": {},
   "outputs": [],
   "source": []
  },
  {
   "cell_type": "code",
   "execution_count": null,
   "metadata": {},
   "outputs": [],
   "source": []
  }
 ],
 "metadata": {
  "kernelspec": {
   "display_name": "Python 3",
   "language": "python",
   "name": "python3"
  },
  "language_info": {
   "codemirror_mode": {
    "name": "ipython",
    "version": 3
   },
   "file_extension": ".py",
   "mimetype": "text/x-python",
   "name": "python",
   "nbconvert_exporter": "python",
   "pygments_lexer": "ipython3",
   "version": "3.6.5"
  }
 },
 "nbformat": 4,
 "nbformat_minor": 2
}
