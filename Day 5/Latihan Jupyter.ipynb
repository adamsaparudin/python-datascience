{
 "cells": [
  {
   "cell_type": "code",
   "execution_count": 1,
   "metadata": {},
   "outputs": [
    {
     "name": "stdout",
     "output_type": "stream",
     "text": [
      "Hello World\n"
     ]
    }
   ],
   "source": [
    "print(\"Hello World\")"
   ]
  },
  {
   "cell_type": "code",
   "execution_count": 2,
   "metadata": {},
   "outputs": [
    {
     "name": "stdout",
     "output_type": "stream",
     "text": [
      "Latihan Jupyter.ipynb  siswa.json\r\n"
     ]
    }
   ],
   "source": [
    "%ls"
   ]
  },
  {
   "cell_type": "code",
   "execution_count": 4,
   "metadata": {},
   "outputs": [
    {
     "name": "stdout",
     "output_type": "stream",
     "text": [
      "ini yang bener\n"
     ]
    }
   ],
   "source": [
    "print(\"ini yang bener\")"
   ]
  },
  {
   "cell_type": "code",
   "execution_count": 5,
   "metadata": {},
   "outputs": [],
   "source": [
    "import json\n",
    "def print_file(nama_file):\n",
    "    new = open(nama_file)\n",
    "    print(new)"
   ]
  },
  {
   "cell_type": "code",
   "execution_count": 6,
   "metadata": {},
   "outputs": [
    {
     "name": "stdout",
     "output_type": "stream",
     "text": [
      "<_io.TextIOWrapper name='siswa.json' mode='r' encoding='UTF-8'>\n"
     ]
    }
   ],
   "source": [
    "print_file(\"siswa.json\")"
   ]
  },
  {
   "cell_type": "markdown",
   "metadata": {},
   "source": [
    "# Contoh Judul"
   ]
  },
  {
   "cell_type": "code",
   "execution_count": 8,
   "metadata": {},
   "outputs": [
    {
     "name": "stdout",
     "output_type": "stream",
     "text": [
      "Collecting matplotlib\n",
      "\u001b[?25l  Downloading https://files.pythonhosted.org/packages/f0/de/49aea99b9d088ce4457b5b171c016173347eba7b79753cdacbbd7da89dee/matplotlib-3.0.0-cp36-cp36m-macosx_10_6_intel.macosx_10_9_intel.macosx_10_9_x86_64.macosx_10_10_intel.macosx_10_10_x86_64.whl (14.1MB)\n",
      "\u001b[K    100% |████████████████████████████████| 14.1MB 605kB/s ta 0:00:011   31% |██████████                      | 4.4MB 1.4MB/s eta 0:00:07\n",
      "\u001b[?25hCollecting numpy>=1.10.0 (from matplotlib)\n",
      "\u001b[?25l  Downloading https://files.pythonhosted.org/packages/0a/2b/726b7d4e4ba844d4805c52b8e05299a5f49bc16c69ca0fa8e1964c0871fe/numpy-1.15.2-cp36-cp36m-macosx_10_6_intel.macosx_10_9_intel.macosx_10_9_x86_64.macosx_10_10_intel.macosx_10_10_x86_64.whl (24.5MB)\n",
      "\u001b[K    100% |████████████████████████████████| 24.5MB 389kB/s ta 0:00:011�█████████████████████▍      | 19.4MB 5.3MB/s eta 0:00:01\n",
      "\u001b[?25hCollecting kiwisolver>=1.0.1 (from matplotlib)\n",
      "\u001b[?25l  Downloading https://files.pythonhosted.org/packages/fb/96/619db9bf08f652790fa9f3c3884a67dc43da4bdaa185a5aa2117eb4651e1/kiwisolver-1.0.1-cp36-cp36m-macosx_10_6_intel.macosx_10_9_intel.macosx_10_9_x86_64.macosx_10_10_intel.macosx_10_10_x86_64.whl (108kB)\n",
      "\u001b[K    100% |████████████████████████████████| 112kB 1.3MB/s ta 0:00:01\n",
      "\u001b[?25hCollecting cycler>=0.10 (from matplotlib)\n",
      "  Downloading https://files.pythonhosted.org/packages/f7/d2/e07d3ebb2bd7af696440ce7e754c59dd546ffe1bbe732c8ab68b9c834e61/cycler-0.10.0-py2.py3-none-any.whl\n",
      "Requirement already satisfied: python-dateutil>=2.1 in /usr/local/lib/python3.6/site-packages (from matplotlib) (2.7.3)\n",
      "Collecting pyparsing!=2.0.4,!=2.1.2,!=2.1.6,>=2.0.1 (from matplotlib)\n",
      "\u001b[?25l  Downloading https://files.pythonhosted.org/packages/2b/4a/f06b45ab9690d4c37641ec776f7ad691974f4cf6943a73267475b05cbfca/pyparsing-2.2.2-py2.py3-none-any.whl (57kB)\n",
      "\u001b[K    100% |████████████████████████████████| 61kB 1.2MB/s ta 0:00:01\n",
      "\u001b[?25hRequirement already satisfied: setuptools in /usr/local/lib/python3.6/site-packages (from kiwisolver>=1.0.1->matplotlib) (39.0.1)\n",
      "Requirement already satisfied: six in /usr/local/lib/python3.6/site-packages (from cycler>=0.10->matplotlib) (1.11.0)\n",
      "Installing collected packages: numpy, kiwisolver, cycler, pyparsing, matplotlib\n",
      "Successfully installed cycler-0.10.0 kiwisolver-1.0.1 matplotlib-3.0.0 numpy-1.15.2 pyparsing-2.2.2\n"
     ]
    }
   ],
   "source": [
    "! pip install matplotlib"
   ]
  },
  {
   "cell_type": "code",
   "execution_count": 9,
   "metadata": {},
   "outputs": [
    {
     "name": "stdout",
     "output_type": "stream",
     "text": [
      "CPU times: user 4 µs, sys: 0 ns, total: 4 µs\n",
      "Wall time: 23.1 µs\n"
     ]
    }
   ],
   "source": [
    "%time x = range(10000)"
   ]
  },
  {
   "cell_type": "code",
   "execution_count": 10,
   "metadata": {},
   "outputs": [
    {
     "data": {
      "text/html": [
       "<i>Python is amazing</i>\n",
       "<img src=\"https://img.memecdn.com/python_o_1269231.jpg\" />\n"
      ],
      "text/plain": [
       "<IPython.core.display.HTML object>"
      ]
     },
     "metadata": {},
     "output_type": "display_data"
    }
   ],
   "source": [
    "%%html\n",
    "<i>Python is amazing</i>\n",
    "<img src=\"https://img.memecdn.com/python_o_1269231.jpg\" />"
   ]
  },
  {
   "cell_type": "code",
   "execution_count": 11,
   "metadata": {},
   "outputs": [
    {
     "name": "stdout",
     "output_type": "stream",
     "text": [
      "Collecting ipython-sql\n",
      "  Downloading https://files.pythonhosted.org/packages/ab/df/427e7cf05ffc67e78672ad57dce2436c1e825129033effe6fcaf804d0c60/ipython_sql-0.3.9-py2.py3-none-any.whl\n",
      "Collecting sqlparse (from ipython-sql)\n",
      "  Downloading https://files.pythonhosted.org/packages/65/85/20bdd72f4537cf2c4d5d005368d502b2f464ede22982e724a82c86268eda/sqlparse-0.2.4-py2.py3-none-any.whl\n",
      "Requirement already satisfied: ipython>=1.0 in /usr/local/lib/python3.6/site-packages (from ipython-sql) (7.0.1)\n",
      "Requirement already satisfied: six in /usr/local/lib/python3.6/site-packages (from ipython-sql) (1.11.0)\n",
      "Collecting sqlalchemy>=0.6.7 (from ipython-sql)\n",
      "\u001b[?25l  Downloading https://files.pythonhosted.org/packages/25/c9/b0552098cee325425a61efdf380c51b5c721e459081c85bbb860f501c091/SQLAlchemy-1.2.12.tar.gz (5.6MB)\n",
      "\u001b[K    100% |████████████████████████████████| 5.6MB 657kB/s ta 0:00:011\n",
      "\u001b[?25hCollecting prettytable (from ipython-sql)\n",
      "  Downloading https://files.pythonhosted.org/packages/ef/30/4b0746848746ed5941f052479e7c23d2b56d174b82f4fd34a25e389831f5/prettytable-0.7.2.tar.bz2\n",
      "Requirement already satisfied: ipython-genutils>=0.1.0 in /usr/local/lib/python3.6/site-packages (from ipython-sql) (0.2.0)\n",
      "Requirement already satisfied: decorator in /usr/local/lib/python3.6/site-packages (from ipython>=1.0->ipython-sql) (4.3.0)\n",
      "Requirement already satisfied: simplegeneric>0.8 in /usr/local/lib/python3.6/site-packages (from ipython>=1.0->ipython-sql) (0.8.1)\n",
      "Requirement already satisfied: pickleshare in /usr/local/lib/python3.6/site-packages (from ipython>=1.0->ipython-sql) (0.7.5)\n",
      "Requirement already satisfied: pexpect; sys_platform != \"win32\" in /usr/local/lib/python3.6/site-packages (from ipython>=1.0->ipython-sql) (4.6.0)\n",
      "Requirement already satisfied: traitlets>=4.2 in /usr/local/lib/python3.6/site-packages (from ipython>=1.0->ipython-sql) (4.3.2)\n",
      "Requirement already satisfied: pygments in /usr/local/lib/python3.6/site-packages (from ipython>=1.0->ipython-sql) (2.2.0)\n",
      "Requirement already satisfied: prompt-toolkit<2.1.0,>=2.0.0 in /usr/local/lib/python3.6/site-packages (from ipython>=1.0->ipython-sql) (2.0.5)\n",
      "Requirement already satisfied: setuptools>=18.5 in /usr/local/lib/python3.6/site-packages (from ipython>=1.0->ipython-sql) (39.0.1)\n",
      "Requirement already satisfied: jedi>=0.10 in /usr/local/lib/python3.6/site-packages (from ipython>=1.0->ipython-sql) (0.13.1)\n",
      "Requirement already satisfied: appnope; sys_platform == \"darwin\" in /usr/local/lib/python3.6/site-packages (from ipython>=1.0->ipython-sql) (0.1.0)\n",
      "Requirement already satisfied: backcall in /usr/local/lib/python3.6/site-packages (from ipython>=1.0->ipython-sql) (0.1.0)\n",
      "Requirement already satisfied: ptyprocess>=0.5 in /usr/local/lib/python3.6/site-packages (from pexpect; sys_platform != \"win32\"->ipython>=1.0->ipython-sql) (0.6.0)\n",
      "Requirement already satisfied: wcwidth in /usr/local/lib/python3.6/site-packages (from prompt-toolkit<2.1.0,>=2.0.0->ipython>=1.0->ipython-sql) (0.1.7)\n",
      "Requirement already satisfied: parso>=0.3.0 in /usr/local/lib/python3.6/site-packages (from jedi>=0.10->ipython>=1.0->ipython-sql) (0.3.1)\n",
      "Building wheels for collected packages: sqlalchemy, prettytable\n",
      "  Running setup.py bdist_wheel for sqlalchemy ... \u001b[?25ldone\n",
      "\u001b[?25h  Stored in directory: /Users/adamsaparudin/Library/Caches/pip/wheels/ed/bd/2e/d3874a6e97b8cc71e7e177c8d065ead30f67f380c4d9bbadaa\n",
      "  Running setup.py bdist_wheel for prettytable ... \u001b[?25ldone\n",
      "\u001b[?25h  Stored in directory: /Users/adamsaparudin/Library/Caches/pip/wheels/80/34/1c/3967380d9676d162cb59513bd9dc862d0584e045a162095606\n",
      "Successfully built sqlalchemy prettytable\n",
      "Installing collected packages: sqlparse, sqlalchemy, prettytable, ipython-sql\n",
      "Successfully installed ipython-sql-0.3.9 prettytable-0.7.2 sqlalchemy-1.2.12 sqlparse-0.2.4\n"
     ]
    }
   ],
   "source": [
    "! pip install ipython-sql"
   ]
  },
  {
   "cell_type": "code",
   "execution_count": 3,
   "metadata": {},
   "outputs": [],
   "source": [
    "%load_ext sql"
   ]
  },
  {
   "cell_type": "code",
   "execution_count": 5,
   "metadata": {},
   "outputs": [
    {
     "data": {
      "text/plain": [
       "'Connected: @test.db'"
      ]
     },
     "execution_count": 5,
     "metadata": {},
     "output_type": "execute_result"
    }
   ],
   "source": [
    "%sql sqlite:///test.db"
   ]
  },
  {
   "cell_type": "code",
   "execution_count": 20,
   "metadata": {},
   "outputs": [
    {
     "name": "stdout",
     "output_type": "stream",
     "text": [
      "Latihan Jupyter.ipynb  siswa.json\r\n"
     ]
    }
   ],
   "source": [
    "%ls"
   ]
  },
  {
   "cell_type": "code",
   "execution_count": 24,
   "metadata": {},
   "outputs": [
    {
     "name": "stdout",
     "output_type": "stream",
     "text": [
      "   sqlite://\n",
      " * sqlite:///test.db\n",
      "Done.\n",
      "1 rows affected.\n",
      "1 rows affected.\n"
     ]
    },
    {
     "data": {
      "text/plain": [
       "[]"
      ]
     },
     "execution_count": 24,
     "metadata": {},
     "output_type": "execute_result"
    }
   ],
   "source": [
    "%%sql\n",
    "CREATE TABLE classroom(name, age, no);\n",
    "INSERT INTO classroom VALUES(\"Andrew\", 20, 1);\n",
    "INSERT INTO classroom VALUES(\"Andri\", 25, 2);"
   ]
  },
  {
   "cell_type": "code",
   "execution_count": 18,
   "metadata": {},
   "outputs": [
    {
     "name": "stdout",
     "output_type": "stream",
     "text": [
      " * sqlite://\n",
      "Done.\n"
     ]
    },
    {
     "data": {
      "text/html": [
       "<table>\n",
       "    <tr>\n",
       "        <th>name</th>\n",
       "        <th>age</th>\n",
       "        <th>no</th>\n",
       "    </tr>\n",
       "    <tr>\n",
       "        <td>Andrew</td>\n",
       "        <td>20</td>\n",
       "        <td>1</td>\n",
       "    </tr>\n",
       "    <tr>\n",
       "        <td>Andri</td>\n",
       "        <td>25</td>\n",
       "        <td>2</td>\n",
       "    </tr>\n",
       "</table>"
      ],
      "text/plain": [
       "[('Andrew', 20, 1), ('Andri', 25, 2)]"
      ]
     },
     "execution_count": 18,
     "metadata": {},
     "output_type": "execute_result"
    }
   ],
   "source": [
    "%sql select * from classroom"
   ]
  },
  {
   "cell_type": "code",
   "execution_count": 19,
   "metadata": {},
   "outputs": [
    {
     "data": {
      "application/json": {
       "cell": {
        "!": "OSMagics",
        "HTML": "Other",
        "SVG": "Other",
        "bash": "Other",
        "capture": "ExecutionMagics",
        "debug": "ExecutionMagics",
        "file": "Other",
        "html": "DisplayMagics",
        "javascript": "DisplayMagics",
        "js": "DisplayMagics",
        "latex": "DisplayMagics",
        "markdown": "DisplayMagics",
        "perl": "Other",
        "prun": "ExecutionMagics",
        "pypy": "Other",
        "python": "Other",
        "python2": "Other",
        "python3": "Other",
        "ruby": "Other",
        "script": "ScriptMagics",
        "sh": "Other",
        "sql": "SqlMagic",
        "svg": "DisplayMagics",
        "sx": "OSMagics",
        "system": "OSMagics",
        "time": "ExecutionMagics",
        "timeit": "ExecutionMagics",
        "writefile": "OSMagics"
       },
       "line": {
        "alias": "OSMagics",
        "alias_magic": "BasicMagics",
        "autoawait": "AsyncMagics",
        "autocall": "AutoMagics",
        "automagic": "AutoMagics",
        "autosave": "KernelMagics",
        "bookmark": "OSMagics",
        "cat": "Other",
        "cd": "OSMagics",
        "clear": "KernelMagics",
        "colors": "BasicMagics",
        "config": "ConfigMagics",
        "connect_info": "KernelMagics",
        "cp": "Other",
        "debug": "ExecutionMagics",
        "dhist": "OSMagics",
        "dirs": "OSMagics",
        "doctest_mode": "BasicMagics",
        "ed": "Other",
        "edit": "KernelMagics",
        "env": "OSMagics",
        "gui": "BasicMagics",
        "hist": "Other",
        "history": "HistoryMagics",
        "killbgscripts": "ScriptMagics",
        "ldir": "Other",
        "less": "KernelMagics",
        "lf": "Other",
        "lk": "Other",
        "ll": "Other",
        "load": "CodeMagics",
        "load_ext": "ExtensionMagics",
        "loadpy": "CodeMagics",
        "logoff": "LoggingMagics",
        "logon": "LoggingMagics",
        "logstart": "LoggingMagics",
        "logstate": "LoggingMagics",
        "logstop": "LoggingMagics",
        "ls": "Other",
        "lsmagic": "BasicMagics",
        "lx": "Other",
        "macro": "ExecutionMagics",
        "magic": "BasicMagics",
        "man": "KernelMagics",
        "matplotlib": "PylabMagics",
        "mkdir": "Other",
        "more": "KernelMagics",
        "mv": "Other",
        "notebook": "BasicMagics",
        "page": "BasicMagics",
        "pastebin": "CodeMagics",
        "pdb": "ExecutionMagics",
        "pdef": "NamespaceMagics",
        "pdoc": "NamespaceMagics",
        "pfile": "NamespaceMagics",
        "pinfo": "NamespaceMagics",
        "pinfo2": "NamespaceMagics",
        "pip": "BasicMagics",
        "popd": "OSMagics",
        "pprint": "BasicMagics",
        "precision": "BasicMagics",
        "prun": "ExecutionMagics",
        "psearch": "NamespaceMagics",
        "psource": "NamespaceMagics",
        "pushd": "OSMagics",
        "pwd": "OSMagics",
        "pycat": "OSMagics",
        "pylab": "PylabMagics",
        "qtconsole": "KernelMagics",
        "quickref": "BasicMagics",
        "recall": "HistoryMagics",
        "rehashx": "OSMagics",
        "reload_ext": "ExtensionMagics",
        "rep": "Other",
        "rerun": "HistoryMagics",
        "reset": "NamespaceMagics",
        "reset_selective": "NamespaceMagics",
        "rm": "Other",
        "rmdir": "Other",
        "run": "ExecutionMagics",
        "save": "CodeMagics",
        "sc": "OSMagics",
        "set_env": "OSMagics",
        "sql": "SqlMagic",
        "store": "StoreMagics",
        "sx": "OSMagics",
        "system": "OSMagics",
        "tb": "ExecutionMagics",
        "time": "ExecutionMagics",
        "timeit": "ExecutionMagics",
        "unalias": "OSMagics",
        "unload_ext": "ExtensionMagics",
        "who": "NamespaceMagics",
        "who_ls": "NamespaceMagics",
        "whos": "NamespaceMagics",
        "xdel": "NamespaceMagics",
        "xmode": "BasicMagics"
       }
      },
      "text/plain": [
       "Available line magics:\n",
       "%alias  %alias_magic  %autoawait  %autocall  %automagic  %autosave  %bookmark  %cat  %cd  %clear  %colors  %config  %connect_info  %cp  %debug  %dhist  %dirs  %doctest_mode  %ed  %edit  %env  %gui  %hist  %history  %killbgscripts  %ldir  %less  %lf  %lk  %ll  %load  %load_ext  %loadpy  %logoff  %logon  %logstart  %logstate  %logstop  %ls  %lsmagic  %lx  %macro  %magic  %man  %matplotlib  %mkdir  %more  %mv  %notebook  %page  %pastebin  %pdb  %pdef  %pdoc  %pfile  %pinfo  %pinfo2  %popd  %pprint  %precision  %prun  %psearch  %psource  %pushd  %pwd  %pycat  %pylab  %qtconsole  %quickref  %recall  %rehashx  %reload_ext  %rep  %rerun  %reset  %reset_selective  %rm  %rmdir  %run  %save  %sc  %set_env  %sql  %store  %sx  %system  %tb  %time  %timeit  %unalias  %unload_ext  %who  %who_ls  %whos  %xdel  %xmode\n",
       "\n",
       "Available cell magics:\n",
       "%%!  %%HTML  %%SVG  %%bash  %%capture  %%debug  %%file  %%html  %%javascript  %%js  %%latex  %%markdown  %%perl  %%prun  %%pypy  %%python  %%python2  %%python3  %%ruby  %%script  %%sh  %%sql  %%svg  %%sx  %%system  %%time  %%timeit  %%writefile\n",
       "\n",
       "Automagic is ON, % prefix IS NOT needed for line magics."
      ]
     },
     "execution_count": 19,
     "metadata": {},
     "output_type": "execute_result"
    }
   ],
   "source": [
    "%lsmagic"
   ]
  },
  {
   "cell_type": "code",
   "execution_count": 30,
   "metadata": {},
   "outputs": [
    {
     "name": "stdout",
     "output_type": "stream",
     "text": [
      "   sqlite://\n",
      " * sqlite:///test.db\n",
      "1 rows affected.\n",
      "   sqlite://\n",
      " * sqlite:///test.db\n",
      "1 rows affected.\n"
     ]
    }
   ],
   "source": [
    "data = [[\"mike\",23,3], [\"mikey\",23,3]];\n",
    "for d, age, no in data:\n",
    "    s = %sql INSERT INTO classroom VALUES(:d, :age, :no);"
   ]
  },
  {
   "cell_type": "code",
   "execution_count": 32,
   "metadata": {},
   "outputs": [
    {
     "name": "stdout",
     "output_type": "stream",
     "text": [
      "   sqlite://\n",
      " * sqlite:///test.db\n",
      "Done.\n"
     ]
    },
    {
     "data": {
      "text/html": [
       "<table>\n",
       "    <tr>\n",
       "        <th>name</th>\n",
       "        <th>age</th>\n",
       "        <th>no</th>\n",
       "    </tr>\n",
       "    <tr>\n",
       "        <td>Andrew</td>\n",
       "        <td>20</td>\n",
       "        <td>1</td>\n",
       "    </tr>\n",
       "    <tr>\n",
       "        <td>Andri</td>\n",
       "        <td>25</td>\n",
       "        <td>2</td>\n",
       "    </tr>\n",
       "    <tr>\n",
       "        <td>mike</td>\n",
       "        <td>23</td>\n",
       "        <td>3</td>\n",
       "    </tr>\n",
       "    <tr>\n",
       "        <td>mikey</td>\n",
       "        <td>23</td>\n",
       "        <td>3</td>\n",
       "    </tr>\n",
       "</table>"
      ],
      "text/plain": [
       "[('Andrew', 20, 1), ('Andri', 25, 2), ('mike', 23, 3), ('mikey', 23, 3)]"
      ]
     },
     "execution_count": 32,
     "metadata": {},
     "output_type": "execute_result"
    }
   ],
   "source": [
    "%sql select * from classroom;"
   ]
  },
  {
   "cell_type": "code",
   "execution_count": 10,
   "metadata": {},
   "outputs": [
    {
     "name": "stdout",
     "output_type": "stream",
     "text": [
      " * sqlite:///test.db\n",
      "Done.\n"
     ]
    },
    {
     "data": {
      "text/plain": [
       "([<matplotlib.patches.Wedge at 0x11260c1d0>,\n",
       "  <matplotlib.patches.Wedge at 0x11260c748>,\n",
       "  <matplotlib.patches.Wedge at 0x11260cc18>,\n",
       "  <matplotlib.patches.Wedge at 0x112616128>],\n",
       " [Text(0.8480484883100577, 0.7005810170672812, '1'),\n",
       "  Text(-0.6858388280562521, 0.8600145940217683, '2'),\n",
       "  Text(-0.7976938303166771, -0.7574196677369215, '3'),\n",
       "  Text(0.7710756098161573, -0.784501372813739, '3')])"
      ]
     },
     "execution_count": 10,
     "metadata": {},
     "output_type": "execute_result"
    },
    {
     "data": {
      "image/png": "[encoded data removed]",
      "text/plain": [
       "<Figure size 432x288 with 1 Axes>"
      ]
     },
     "metadata": {},
     "output_type": "display_data"
    }
   ],
   "source": [
    "result = %sql select no, age from classroom;\n",
    "\n",
    "%matplotlib inline\n",
    "\n",
    "result.pie()"
   ]
  },
  {
   "cell_type": "code",
   "execution_count": 2,
   "metadata": {},
   "outputs": [
    {
     "data": {
      "text/plain": [
       "'Connected: @constructions.db'"
      ]
     },
     "execution_count": 2,
     "metadata": {},
     "output_type": "execute_result"
    }
   ],
   "source": [
    "import csv\n",
    "%load_ext sql\n",
    "%sql sqlite:///constructions.db\n",
    "    "
   ]
  },
  {
   "cell_type": "code",
   "execution_count": 4,
   "metadata": {},
   "outputs": [
    {
     "name": "stdout",
     "output_type": "stream",
     "text": [
      " * sqlite:///constructions.db\n",
      "Done.\n"
     ]
    },
    {
     "data": {
      "text/plain": [
       "[]"
      ]
     },
     "execution_count": 4,
     "metadata": {},
     "output_type": "execute_result"
    }
   ],
   "source": [
    "%%sql\n",
    "create table spend(timestamp, spend)"
   ]
  },
  {
   "cell_type": "code",
   "execution_count": 7,
   "metadata": {},
   "outputs": [
    {
     "name": "stdout",
     "output_type": "stream",
     "text": [
      " * sqlite:///constructions.db\n",
      "1 rows affected.\n",
      " * sqlite:///constructions.db\n",
      "1 rows affected.\n",
      " * sqlite:///constructions.db\n",
      "1 rows affected.\n",
      " * sqlite:///constructions.db\n",
      "1 rows affected.\n",
      " * sqlite:///constructions.db\n",
      "1 rows affected.\n",
      " * sqlite:///constructions.db\n",
      "1 rows affected.\n",
      " * sqlite:///constructions.db\n",
      "1 rows affected.\n",
      " * sqlite:///constructions.db\n",
      "1 rows affected.\n",
      " * sqlite:///constructions.db\n",
      "1 rows affected.\n",
      " * sqlite:///constructions.db\n",
      "1 rows affected.\n",
      " * sqlite:///constructions.db\n",
      "1 rows affected.\n",
      " * sqlite:///constructions.db\n",
      "1 rows affected.\n",
      " * sqlite:///constructions.db\n",
      "1 rows affected.\n",
      " * sqlite:///constructions.db\n",
      "1 rows affected.\n",
      " * sqlite:///constructions.db\n",
      "1 rows affected.\n",
      " * sqlite:///constructions.db\n",
      "1 rows affected.\n",
      " * sqlite:///constructions.db\n",
      "1 rows affected.\n",
      " * sqlite:///constructions.db\n",
      "1 rows affected.\n",
      " * sqlite:///constructions.db\n",
      "1 rows affected.\n",
      " * sqlite:///constructions.db\n",
      "1 rows affected.\n",
      " * sqlite:///constructions.db\n",
      "1 rows affected.\n",
      " * sqlite:///constructions.db\n",
      "1 rows affected.\n",
      " * sqlite:///constructions.db\n",
      "1 rows affected.\n",
      " * sqlite:///constructions.db\n",
      "1 rows affected.\n",
      " * sqlite:///constructions.db\n",
      "1 rows affected.\n",
      " * sqlite:///constructions.db\n",
      "1 rows affected.\n",
      " * sqlite:///constructions.db\n",
      "1 rows affected.\n",
      " * sqlite:///constructions.db\n",
      "1 rows affected.\n",
      " * sqlite:///constructions.db\n",
      "1 rows affected.\n",
      " * sqlite:///constructions.db\n",
      "1 rows affected.\n",
      " * sqlite:///constructions.db\n",
      "1 rows affected.\n",
      " * sqlite:///constructions.db\n",
      "1 rows affected.\n",
      " * sqlite:///constructions.db\n",
      "1 rows affected.\n",
      " * sqlite:///constructions.db\n",
      "1 rows affected.\n",
      " * sqlite:///constructions.db\n",
      "1 rows affected.\n",
      " * sqlite:///constructions.db\n",
      "1 rows affected.\n",
      " * sqlite:///constructions.db\n",
      "1 rows affected.\n",
      " * sqlite:///constructions.db\n",
      "1 rows affected.\n",
      " * sqlite:///constructions.db\n",
      "1 rows affected.\n",
      " * sqlite:///constructions.db\n",
      "1 rows affected.\n",
      " * sqlite:///constructions.db\n",
      "1 rows affected.\n",
      " * sqlite:///constructions.db\n",
      "1 rows affected.\n",
      " * sqlite:///constructions.db\n",
      "1 rows affected.\n",
      " * sqlite:///constructions.db\n",
      "1 rows affected.\n",
      " * sqlite:///constructions.db\n",
      "1 rows affected.\n",
      " * sqlite:///constructions.db\n",
      "1 rows affected.\n",
      " * sqlite:///constructions.db\n",
      "1 rows affected.\n",
      " * sqlite:///constructions.db\n",
      "1 rows affected.\n",
      " * sqlite:///constructions.db\n",
      "1 rows affected.\n",
      " * sqlite:///constructions.db\n",
      "1 rows affected.\n",
      " * sqlite:///constructions.db\n",
      "1 rows affected.\n",
      " * sqlite:///constructions.db\n",
      "1 rows affected.\n",
      " * sqlite:///constructions.db\n",
      "1 rows affected.\n",
      " * sqlite:///constructions.db\n",
      "1 rows affected.\n",
      " * sqlite:///constructions.db\n",
      "1 rows affected.\n",
      " * sqlite:///constructions.db\n",
      "1 rows affected.\n",
      " * sqlite:///constructions.db\n",
      "1 rows affected.\n",
      " * sqlite:///constructions.db\n",
      "1 rows affected.\n",
      " * sqlite:///constructions.db\n",
      "1 rows affected.\n",
      " * sqlite:///constructions.db\n",
      "1 rows affected.\n",
      " * sqlite:///constructions.db\n",
      "1 rows affected.\n",
      " * sqlite:///constructions.db\n",
      "1 rows affected.\n",
      " * sqlite:///constructions.db\n",
      "1 rows affected.\n",
      " * sqlite:///constructions.db\n",
      "1 rows affected.\n",
      " * sqlite:///constructions.db\n",
      "1 rows affected.\n",
      " * sqlite:///constructions.db\n",
      "1 rows affected.\n",
      " * sqlite:///constructions.db\n",
      "1 rows affected.\n",
      " * sqlite:///constructions.db\n",
      "1 rows affected.\n",
      " * sqlite:///constructions.db\n",
      "1 rows affected.\n",
      " * sqlite:///constructions.db\n",
      "1 rows affected.\n",
      " * sqlite:///constructions.db\n",
      "1 rows affected.\n",
      " * sqlite:///constructions.db\n",
      "1 rows affected.\n",
      " * sqlite:///constructions.db\n",
      "1 rows affected.\n",
      " * sqlite:///constructions.db\n",
      "1 rows affected.\n",
      " * sqlite:///constructions.db\n",
      "1 rows affected.\n",
      " * sqlite:///constructions.db\n",
      "1 rows affected.\n",
      " * sqlite:///constructions.db\n",
      "1 rows affected.\n",
      " * sqlite:///constructions.db\n",
      "1 rows affected.\n",
      " * sqlite:///constructions.db\n",
      "1 rows affected.\n",
      " * sqlite:///constructions.db\n",
      "1 rows affected.\n",
      " * sqlite:///constructions.db\n",
      "1 rows affected.\n",
      " * sqlite:///constructions.db\n",
      "1 rows affected.\n",
      " * sqlite:///constructions.db\n",
      "1 rows affected.\n",
      " * sqlite:///constructions.db\n",
      "1 rows affected.\n",
      " * sqlite:///constructions.db\n",
      "1 rows affected.\n",
      " * sqlite:///constructions.db\n",
      "1 rows affected.\n",
      " * sqlite:///constructions.db\n",
      "1 rows affected.\n",
      " * sqlite:///constructions.db\n",
      "1 rows affected.\n",
      " * sqlite:///constructions.db\n",
      "1 rows affected.\n",
      " * sqlite:///constructions.db\n",
      "1 rows affected.\n",
      " * sqlite:///constructions.db\n",
      "1 rows affected.\n",
      " * sqlite:///constructions.db\n",
      "1 rows affected.\n",
      " * sqlite:///constructions.db\n",
      "1 rows affected.\n",
      " * sqlite:///constructions.db\n",
      "1 rows affected.\n",
      " * sqlite:///constructions.db\n",
      "1 rows affected.\n",
      " * sqlite:///constructions.db\n",
      "1 rows affected.\n",
      " * sqlite:///constructions.db\n",
      "1 rows affected.\n",
      " * sqlite:///constructions.db\n",
      "1 rows affected.\n",
      " * sqlite:///constructions.db\n",
      "1 rows affected.\n",
      " * sqlite:///constructions.db\n",
      "1 rows affected.\n",
      " * sqlite:///constructions.db\n",
      "1 rows affected.\n",
      " * sqlite:///constructions.db\n",
      "1 rows affected.\n",
      " * sqlite:///constructions.db\n",
      "1 rows affected.\n",
      " * sqlite:///constructions.db\n",
      "1 rows affected.\n",
      " * sqlite:///constructions.db\n",
      "1 rows affected.\n",
      " * sqlite:///constructions.db\n",
      "1 rows affected.\n",
      " * sqlite:///constructions.db\n",
      "1 rows affected.\n",
      " * sqlite:///constructions.db\n",
      "1 rows affected.\n",
      " * sqlite:///constructions.db\n",
      "1 rows affected.\n",
      " * sqlite:///constructions.db\n",
      "1 rows affected.\n",
      " * sqlite:///constructions.db\n",
      "1 rows affected.\n",
      " * sqlite:///constructions.db\n",
      "1 rows affected.\n",
      " * sqlite:///constructions.db\n",
      "1 rows affected.\n",
      " * sqlite:///constructions.db\n",
      "1 rows affected.\n",
      " * sqlite:///constructions.db\n",
      "1 rows affected.\n",
      " * sqlite:///constructions.db\n",
      "1 rows affected.\n",
      " * sqlite:///constructions.db\n",
      "1 rows affected.\n",
      " * sqlite:///constructions.db\n",
      "1 rows affected.\n",
      " * sqlite:///constructions.db\n",
      "1 rows affected.\n",
      " * sqlite:///constructions.db\n",
      "1 rows affected.\n",
      " * sqlite:///constructions.db\n",
      "1 rows affected.\n",
      " * sqlite:///constructions.db\n",
      "1 rows affected.\n",
      " * sqlite:///constructions.db\n",
      "1 rows affected.\n",
      " * sqlite:///constructions.db\n",
      "1 rows affected.\n",
      " * sqlite:///constructions.db\n",
      "1 rows affected.\n",
      " * sqlite:///constructions.db\n",
      "1 rows affected.\n",
      " * sqlite:///constructions.db\n",
      "1 rows affected.\n",
      " * sqlite:///constructions.db\n",
      "1 rows affected.\n",
      " * sqlite:///constructions.db\n",
      "1 rows affected.\n",
      " * sqlite:///constructions.db\n",
      "1 rows affected.\n",
      " * sqlite:///constructions.db\n",
      "1 rows affected.\n",
      " * sqlite:///constructions.db\n",
      "1 rows affected.\n",
      " * sqlite:///constructions.db\n",
      "1 rows affected.\n",
      " * sqlite:///constructions.db\n",
      "1 rows affected.\n",
      " * sqlite:///constructions.db\n",
      "1 rows affected.\n",
      " * sqlite:///constructions.db\n",
      "1 rows affected.\n",
      " * sqlite:///constructions.db\n",
      "1 rows affected.\n",
      " * sqlite:///constructions.db\n",
      "1 rows affected.\n",
      " * sqlite:///constructions.db\n",
      "1 rows affected.\n",
      " * sqlite:///constructions.db\n",
      "1 rows affected.\n",
      " * sqlite:///constructions.db\n",
      "1 rows affected.\n",
      " * sqlite:///constructions.db\n",
      "1 rows affected.\n",
      " * sqlite:///constructions.db\n",
      "1 rows affected.\n",
      " * sqlite:///constructions.db\n",
      "1 rows affected.\n",
      " * sqlite:///constructions.db\n",
      "1 rows affected.\n",
      " * sqlite:///constructions.db\n",
      "1 rows affected.\n",
      " * sqlite:///constructions.db\n",
      "1 rows affected.\n",
      " * sqlite:///constructions.db\n",
      "1 rows affected.\n",
      " * sqlite:///constructions.db\n",
      "1 rows affected.\n",
      " * sqlite:///constructions.db\n",
      "1 rows affected.\n",
      " * sqlite:///constructions.db\n",
      "1 rows affected.\n",
      " * sqlite:///constructions.db\n",
      "1 rows affected.\n",
      " * sqlite:///constructions.db\n",
      "1 rows affected.\n",
      " * sqlite:///constructions.db\n",
      "1 rows affected.\n",
      " * sqlite:///constructions.db\n",
      "1 rows affected.\n",
      " * sqlite:///constructions.db\n",
      "1 rows affected.\n",
      " * sqlite:///constructions.db\n",
      "1 rows affected.\n",
      " * sqlite:///constructions.db\n",
      "1 rows affected.\n",
      " * sqlite:///constructions.db\n",
      "1 rows affected.\n",
      " * sqlite:///constructions.db\n",
      "1 rows affected.\n",
      " * sqlite:///constructions.db\n",
      "1 rows affected.\n",
      " * sqlite:///constructions.db\n",
      "1 rows affected.\n",
      " * sqlite:///constructions.db\n",
      "1 rows affected.\n",
      " * sqlite:///constructions.db\n",
      "1 rows affected.\n",
      " * sqlite:///constructions.db\n",
      "1 rows affected.\n",
      " * sqlite:///constructions.db\n",
      "1 rows affected.\n",
      " * sqlite:///constructions.db\n",
      "1 rows affected.\n",
      " * sqlite:///constructions.db\n",
      "1 rows affected.\n",
      " * sqlite:///constructions.db\n",
      "1 rows affected.\n",
      " * sqlite:///constructions.db\n",
      "1 rows affected.\n",
      " * sqlite:///constructions.db\n",
      "1 rows affected.\n",
      " * sqlite:///constructions.db\n",
      "1 rows affected.\n",
      " * sqlite:///constructions.db\n",
      "1 rows affected.\n",
      " * sqlite:///constructions.db\n",
      "1 rows affected.\n",
      " * sqlite:///constructions.db\n",
      "1 rows affected.\n",
      " * sqlite:///constructions.db\n",
      "1 rows affected.\n",
      " * sqlite:///constructions.db\n",
      "1 rows affected.\n",
      " * sqlite:///constructions.db\n",
      "1 rows affected.\n",
      " * sqlite:///constructions.db\n",
      "1 rows affected.\n",
      " * sqlite:///constructions.db\n",
      "1 rows affected.\n",
      " * sqlite:///constructions.db\n",
      "1 rows affected.\n",
      " * sqlite:///constructions.db\n",
      "1 rows affected.\n",
      " * sqlite:///constructions.db\n",
      "1 rows affected.\n",
      " * sqlite:///constructions.db\n",
      "1 rows affected.\n",
      " * sqlite:///constructions.db\n",
      "1 rows affected.\n",
      " * sqlite:///constructions.db\n",
      "1 rows affected.\n",
      " * sqlite:///constructions.db\n",
      "1 rows affected.\n",
      " * sqlite:///constructions.db\n",
      "1 rows affected.\n",
      " * sqlite:///constructions.db\n",
      "1 rows affected.\n",
      " * sqlite:///constructions.db\n",
      "1 rows affected.\n",
      " * sqlite:///constructions.db\n",
      "1 rows affected.\n",
      " * sqlite:///constructions.db\n",
      "1 rows affected.\n",
      " * sqlite:///constructions.db\n",
      "1 rows affected.\n",
      " * sqlite:///constructions.db\n",
      "1 rows affected.\n",
      " * sqlite:///constructions.db\n",
      "1 rows affected.\n",
      " * sqlite:///constructions.db\n",
      "1 rows affected.\n",
      " * sqlite:///constructions.db\n",
      "1 rows affected.\n",
      " * sqlite:///constructions.db\n",
      "1 rows affected.\n",
      " * sqlite:///constructions.db\n",
      "1 rows affected.\n",
      " * sqlite:///constructions.db\n",
      "1 rows affected.\n"
     ]
    }
   ],
   "source": [
    "file_csv = open(\"data-constructions.csv\")\n",
    "data_csv = csv.reader(file_csv, delimiter=',')\n",
    "for row in data_csv:\n",
    "    timestamp = row[2]\n",
    "    spend = int(row[3])\n",
    "    s = %sql insert into spend values(:timestamp, :spend);"
   ]
  },
  {
   "cell_type": "code",
   "execution_count": 16,
   "metadata": {},
   "outputs": [
    {
     "name": "stdout",
     "output_type": "stream",
     "text": [
      " * sqlite:///constructions.db\n",
      "Done.\n"
     ]
    },
    {
     "data": {
      "text/plain": [
       "<BarContainer object of 17 artists>"
      ]
     },
     "execution_count": 16,
     "metadata": {},
     "output_type": "execute_result"
    },
    {
     "data": {
      "image/png": "[encoded data removed]",
      "text/plain": [
       "<Figure size 432x288 with 1 Axes>"
      ]
     },
     "metadata": {
      "needs_background": "light"
     },
     "output_type": "display_data"
    }
   ],
   "source": [
    "result = %sql select sum(spend) as Spend, strftime('%Y', timestamp) as 'month-year' from spend group by strftime('%Y', timestamp);\n",
    "\n",
    "%matplotlib inline\n",
    "\n",
    "result.bar()"
   ]
  },
  {
   "cell_type": "code",
   "execution_count": null,
   "metadata": {},
   "outputs": [],
   "source": []
  }
 ],
 "metadata": {
  "kernelspec": {
   "display_name": "Python 3",
   "language": "python",
   "name": "python3"
  },
  "language_info": {
   "codemirror_mode": {
    "name": "ipython",
    "version": 3
   },
   "file_extension": ".py",
   "mimetype": "text/x-python",
   "name": "python",
   "nbconvert_exporter": "python",
   "pygments_lexer": "ipython3",
   "version": "3.6.5"
  }
 },
 "nbformat": 4,
 "nbformat_minor": 2
}
