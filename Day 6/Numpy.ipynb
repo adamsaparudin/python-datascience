{
 "cells": [
  {
   "cell_type": "code",
   "execution_count": null,
   "metadata": {},
   "outputs": [],
   "source": [
    "! pip install numpy"
   ]
  },
  {
   "cell_type": "code",
   "execution_count": null,
   "metadata": {},
   "outputs": [],
   "source": [
    "import numpy as np"
   ]
  },
  {
   "cell_type": "code",
   "execution_count": null,
   "metadata": {},
   "outputs": [],
   "source": [
    "a = np.array([2, 4, 5])"
   ]
  },
  {
   "cell_type": "code",
   "execution_count": null,
   "metadata": {},
   "outputs": [],
   "source": [
    "a"
   ]
  },
  {
   "cell_type": "code",
   "execution_count": null,
   "metadata": {},
   "outputs": [],
   "source": [
    "np.arange(100)"
   ]
  },
  {
   "cell_type": "code",
   "execution_count": null,
   "metadata": {},
   "outputs": [],
   "source": [
    "np.__version__"
   ]
  },
  {
   "cell_type": "code",
   "execution_count": null,
   "metadata": {},
   "outputs": [],
   "source": [
    "%timeit b = np.arange(10000)"
   ]
  },
  {
   "cell_type": "code",
   "execution_count": null,
   "metadata": {},
   "outputs": [],
   "source": [
    "b"
   ]
  },
  {
   "cell_type": "code",
   "execution_count": null,
   "metadata": {},
   "outputs": [],
   "source": [
    "%timeit np.arange(10000)"
   ]
  },
  {
   "cell_type": "code",
   "execution_count": null,
   "metadata": {},
   "outputs": [],
   "source": [
    "%timeit range(10000)"
   ]
  },
  {
   "cell_type": "code",
   "execution_count": null,
   "metadata": {},
   "outputs": [],
   "source": [
    "print(range(10000))"
   ]
  },
  {
   "cell_type": "code",
   "execution_count": null,
   "metadata": {},
   "outputs": [],
   "source": [
    "print(range(10))"
   ]
  },
  {
   "cell_type": "code",
   "execution_count": null,
   "metadata": {},
   "outputs": [],
   "source": [
    "a = range(0, 10)"
   ]
  },
  {
   "cell_type": "code",
   "execution_count": null,
   "metadata": {},
   "outputs": [],
   "source": [
    "a\n"
   ]
  },
  {
   "cell_type": "code",
   "execution_count": null,
   "metadata": {},
   "outputs": [],
   "source": [
    "for a in x"
   ]
  },
  {
   "cell_type": "code",
   "execution_count": null,
   "metadata": {},
   "outputs": [],
   "source": [
    "a = np.arange(100).reshape(20, 1)"
   ]
  },
  {
   "cell_type": "code",
   "execution_count": null,
   "metadata": {},
   "outputs": [],
   "source": [
    "np.arange(100).reshape(20, 5)"
   ]
  },
  {
   "cell_type": "code",
   "execution_count": null,
   "metadata": {},
   "outputs": [],
   "source": [
    "np.arange(100).reshape(20, 5)[2:, 2:]"
   ]
  },
  {
   "cell_type": "code",
   "execution_count": null,
   "metadata": {},
   "outputs": [],
   "source": [
    "a = np.arange(10).reshape(2,-1)\n",
    "\n",
    "b = np.repeat(1, 10).reshape(2,-1)\n",
    "a\n",
    "b"
   ]
  },
  {
   "cell_type": "code",
   "execution_count": null,
   "metadata": {},
   "outputs": [],
   "source": [
    "\n",
    "Z = np.arange(50)\n",
    "Z = Z[::-1]\n",
    "print(Z)"
   ]
  },
  {
   "cell_type": "code",
   "execution_count": null,
   "metadata": {},
   "outputs": [],
   "source": [
    "Z = np.tile( np.array([[0,1],[1,0]]), (4,4))\n",
    "print(Z)"
   ]
  },
  {
   "cell_type": "code",
   "execution_count": null,
   "metadata": {},
   "outputs": [],
   "source": [
    "type(np.arange(10))"
   ]
  },
  {
   "cell_type": "code",
   "execution_count": null,
   "metadata": {},
   "outputs": [],
   "source": [
    "print(0 * np.nan)\n",
    "print(np.nan == np.nan)\n",
    "print(np.inf > np.nan)\n",
    "print(np.nan - np.nan)\n",
    "print(0.3 == 3 * 0.1)"
   ]
  },
  {
   "cell_type": "code",
   "execution_count": null,
   "metadata": {},
   "outputs": [],
   "source": [
    "3 * 0.1"
   ]
  },
  {
   "cell_type": "code",
   "execution_count": null,
   "metadata": {},
   "outputs": [],
   "source": [
    "np.array([[0,1],[1,0]])"
   ]
  },
  {
   "cell_type": "code",
   "execution_count": 1,
   "metadata": {},
   "outputs": [
    {
     "name": "stdout",
     "output_type": "stream",
     "text": [
      "Requirement already satisfied: numpy in /usr/local/lib/python3.6/site-packages (1.15.2)\r\n"
     ]
    }
   ],
   "source": [
    "! pip install numpy"
   ]
  },
  {
   "cell_type": "code",
   "execution_count": 2,
   "metadata": {},
   "outputs": [],
   "source": [
    "import numpy as np"
   ]
  },
  {
   "cell_type": "code",
   "execution_count": 4,
   "metadata": {},
   "outputs": [
    {
     "name": "stdout",
     "output_type": "stream",
     "text": [
      "367 ns ± 9.39 ns per loop (mean ± std. dev. of 7 runs, 1000000 loops each)\n",
      "46.5 µs ± 1.04 µs per loop (mean ± std. dev. of 7 runs, 10000 loops each)\n"
     ]
    }
   ],
   "source": [
    "%timeit range(100000)\n",
    "%timeit np.arange(100000)"
   ]
  },
  {
   "cell_type": "code",
   "execution_count": 6,
   "metadata": {},
   "outputs": [
    {
     "name": "stdout",
     "output_type": "stream",
     "text": [
      "[0 1 2 3 4 5 6 7 8 9]\n"
     ]
    }
   ],
   "source": [
    "no = np.arange(10)\n",
    "print(no)"
   ]
  },
  {
   "cell_type": "code",
   "execution_count": 8,
   "metadata": {},
   "outputs": [
    {
     "name": "stdout",
     "output_type": "stream",
     "text": [
      "0\n",
      "1\n",
      "2\n",
      "3\n",
      "4\n",
      "5\n",
      "6\n",
      "7\n",
      "8\n",
      "9\n"
     ]
    }
   ],
   "source": [
    "no = range(10)\n",
    "for i in no:\n",
    "    print(i)"
   ]
  },
  {
   "cell_type": "code",
   "execution_count": 9,
   "metadata": {},
   "outputs": [
    {
     "data": {
      "text/plain": [
       "'1.15.2'"
      ]
     },
     "execution_count": 9,
     "metadata": {},
     "output_type": "execute_result"
    }
   ],
   "source": [
    "np.__version__"
   ]
  },
  {
   "cell_type": "markdown",
   "metadata": {},
   "source": [
    "##Numpy Doc: https://docs.scipy.org/doc/"
   ]
  },
  {
   "cell_type": "code",
   "execution_count": 19,
   "metadata": {},
   "outputs": [
    {
     "name": "stdout",
     "output_type": "stream",
     "text": [
      "[0.15379902 0.01553446 0.01078139]\n",
      "[[122 563 409]\n",
      " [985 663 590]\n",
      " [266 850 126]]\n"
     ]
    }
   ],
   "source": [
    "Z = np.random.random(3)\n",
    "print(Z)\n",
    "Z = np.random.randint(100, 1000, [3, 3])\n",
    "print(Z)"
   ]
  },
  {
   "cell_type": "code",
   "execution_count": 25,
   "metadata": {},
   "outputs": [
    {
     "name": "stdout",
     "output_type": "stream",
     "text": [
      "[1 2 3 1 2 3]\n",
      "[2 4 6]\n",
      "[1, 2, 3, 1, 2, 3]\n"
     ]
    }
   ],
   "source": [
    "a = np.array([1, 2, 3])\n",
    "b = np.array([1,2,3])\n",
    "e = np.array([a, b])\n",
    "print(e.flatten())\n",
    "print(a+b)\n",
    "c = [1, 2, 3]\n",
    "d = [1, 2, 3]\n",
    "print(c+d)"
   ]
  },
  {
   "cell_type": "code",
   "execution_count": 46,
   "metadata": {},
   "outputs": [
    {
     "name": "stdout",
     "output_type": "stream",
     "text": [
      "[2 3 4 5 3]\n",
      "[[ 1.75  1.68  1.8   1.81  1.69]\n",
      " [66.4  49.22 66.3  88.56 65.4 ]]\n"
     ]
    }
   ],
   "source": [
    "arr = [\"2\", \"3\", \"4\", \"5\", \"3\"]\n",
    "arb = np.array(arr, dtype=int)\n",
    "print(arb)\n",
    "c = np.array([['1.75', '1.68', '1.8', '1.81', '1.69'],\n",
    "       ['66.4', '49.22', '66.3', '88.56', '65.4']], dtype=float)\n",
    "print(c)"
   ]
  },
  {
   "cell_type": "code",
   "execution_count": 48,
   "metadata": {},
   "outputs": [
    {
     "data": {
      "text/plain": [
       "1.81"
      ]
     },
     "execution_count": 48,
     "metadata": {},
     "output_type": "execute_result"
    }
   ],
   "source": [
    "c[0][3]"
   ]
  },
  {
   "cell_type": "code",
   "execution_count": 51,
   "metadata": {},
   "outputs": [
    {
     "data": {
      "text/plain": [
       "array([66.4 , 49.22])"
      ]
     },
     "execution_count": 51,
     "metadata": {},
     "output_type": "execute_result"
    }
   ],
   "source": [
    "c[1,:2]"
   ]
  },
  {
   "cell_type": "code",
   "execution_count": 54,
   "metadata": {},
   "outputs": [
    {
     "data": {
      "text/plain": [
       "array([0., 0., 0., 0., 0., 0., 0., 0., 0., 0.])"
      ]
     },
     "execution_count": 54,
     "metadata": {},
     "output_type": "execute_result"
    }
   ],
   "source": [
    "np.zeros(10)"
   ]
  },
  {
   "cell_type": "code",
   "execution_count": 58,
   "metadata": {},
   "outputs": [
    {
     "name": "stdout",
     "output_type": "stream",
     "text": [
      "[[0. 0. 0. 0. 0. 0. 0. 0. 0. 0.]\n",
      " [0. 0. 0. 0. 0. 0. 0. 0. 0. 0.]\n",
      " [0. 0. 0. 0. 0. 0. 0. 0. 0. 0.]\n",
      " [0. 0. 0. 0. 0. 0. 0. 0. 0. 0.]\n",
      " [0. 0. 0. 0. 0. 0. 0. 0. 0. 0.]\n",
      " [0. 0. 0. 0. 0. 0. 0. 0. 0. 0.]\n",
      " [0. 0. 0. 0. 0. 0. 0. 0. 0. 0.]\n",
      " [0. 0. 0. 0. 0. 0. 0. 0. 0. 0.]\n",
      " [0. 0. 0. 0. 0. 0. 0. 0. 0. 0.]\n",
      " [0. 0. 0. 0. 0. 0. 0. 0. 0. 0.]]\n",
      "%d bytes 800\n"
     ]
    }
   ],
   "source": [
    "b = np.zeros((10, 10))\n",
    "print(b)\n",
    "print(\"%d bytes\", (b.size * b.itemsize))"
   ]
  },
  {
   "cell_type": "code",
   "execution_count": 70,
   "metadata": {},
   "outputs": [
    {
     "name": "stdout",
     "output_type": "stream",
     "text": [
      "[10 11 12 13 14 15 16 17 18 19 20 21 22 23 24 25 26 27 28 29 30 31 32 33\n",
      " 34 35 36 37 38 39 40 41 42 43 44 45 46 47 48 49]\n"
     ]
    }
   ],
   "source": [
    "Z = np.arange(10, 50)\n",
    "print(Z)"
   ]
  },
  {
   "cell_type": "code",
   "execution_count": 72,
   "metadata": {},
   "outputs": [
    {
     "name": "stdout",
     "output_type": "stream",
     "text": [
      "[11 12 13]\n"
     ]
    }
   ],
   "source": [
    "# Z = Z[1:]\n",
    "print(Z[1:4])"
   ]
  },
  {
   "cell_type": "code",
   "execution_count": 88,
   "metadata": {},
   "outputs": [
    {
     "name": "stdout",
     "output_type": "stream",
     "text": [
      "[[[ 0  1  2  3]\n",
      "  [ 4  5  6  7]]\n",
      "\n",
      " [[ 8  9 10 11]\n",
      "  [12 13 14 15]]\n",
      "\n",
      " [[16 17 18 19]\n",
      "  [20 21 22 23]]]\n",
      "[10 20 30 40 50 60 70 80 90]\n",
      "[1 2 3]\n"
     ]
    }
   ],
   "source": [
    "Z = np.arange(24).reshape(3, 2, 4)\n",
    "print(Z)\n",
    "print(np.arange(10, 100, 10))\n",
    "\n",
    "print(np.array([1, 2, 3]))"
   ]
  },
  {
   "cell_type": "code",
   "execution_count": 91,
   "metadata": {},
   "outputs": [
    {
     "name": "stdout",
     "output_type": "stream",
     "text": [
      "(array([0, 1, 4]),)\n",
      "[1 3 4]\n"
     ]
    }
   ],
   "source": [
    "Z = np.nonzero([1, 2, 0, 0, 4, 0])\n",
    "print(Z)\n",
    "Z = np.array([1, 2, 3, 4])\n",
    "print(Z[Z != 2])\n"
   ]
  },
  {
   "cell_type": "code",
   "execution_count": 93,
   "metadata": {},
   "outputs": [
    {
     "name": "stdout",
     "output_type": "stream",
     "text": [
      "[[1 0 0]\n",
      " [0 1 0]\n",
      " [0 0 1]]\n"
     ]
    }
   ],
   "source": [
    "Z = np.eye(3, dtype=int)\n",
    "print(Z)"
   ]
  },
  {
   "cell_type": "code",
   "execution_count": 106,
   "metadata": {},
   "outputs": [
    {
     "name": "stdout",
     "output_type": "stream",
     "text": [
      "[[0.40278112 0.82261535 0.1643774 ]\n",
      " [0.16167357 0.99472673 0.58866355]\n",
      " [0.45850417 0.992969   0.71156331]]\n",
      "0.161673568922018 0.9947267299910346\n",
      "0.5886526888909178\n",
      "0.16437739702516407\n",
      "[0.162 0.995 0.589]\n"
     ]
    }
   ],
   "source": [
    "\n",
    "Z = np.random.random((3,3))\n",
    "print(Z)\n",
    "Zmin, Zmax = Z.min(), Z.max()\n",
    "print(Zmin, Zmax)\n",
    "print(Z.mean())\n",
    "print(Z[0].min())\n",
    "print(np.round(Z[1], 3))"
   ]
  },
  {
   "cell_type": "code",
   "execution_count": null,
   "metadata": {},
   "outputs": [],
   "source": [
    "Z = np.ones((10,10))\n",
    "Z[1:-1,1:-1] = 0\n",
    "print(Z)"
   ]
  },
  {
   "cell_type": "code",
   "execution_count": 111,
   "metadata": {},
   "outputs": [
    {
     "name": "stdout",
     "output_type": "stream",
     "text": [
      "nan\n",
      "False\n",
      "False\n",
      "nan\n",
      "False\n",
      "0.30000000000000004\n"
     ]
    },
    {
     "data": {
      "text/plain": [
       "0.1"
      ]
     },
     "execution_count": 111,
     "metadata": {},
     "output_type": "execute_result"
    }
   ],
   "source": [
    "print(0 * np.nan)\n",
    "print(np.nan == np.nan)\n",
    "print(np.inf > np.nan)\n",
    "print(np.nan - np.nan)\n",
    "print(0.3 == 3 * 0.1)\n",
    "print(3 * 0.1)\n",
    "0.1"
   ]
  },
  {
   "cell_type": "code",
   "execution_count": null,
   "metadata": {},
   "outputs": [],
   "source": [
    "Z = np.diag(1+np.arange(4),k=-1)\n",
    "print(Z)"
   ]
  },
  {
   "cell_type": "code",
   "execution_count": null,
   "metadata": {},
   "outputs": [],
   "source": [
    "print(np.unravel_index(100,(6,7,8)))\n"
   ]
  },
  {
   "cell_type": "code",
   "execution_count": null,
   "metadata": {},
   "outputs": [],
   "source": [
    "Z = np.random.random((5,5))\n",
    "Zmax, Zmin = Z.max(), Z.min()\n",
    "Z = (Z - Zmin)/(Zmax - Zmin)\n",
    "print(Z)"
   ]
  },
  {
   "cell_type": "code",
   "execution_count": null,
   "metadata": {},
   "outputs": [],
   "source": [
    "np.unravel_index([0,7], (2,4))"
   ]
  },
  {
   "cell_type": "code",
   "execution_count": null,
   "metadata": {},
   "outputs": [],
   "source": [
    "np.unravel_index([22, 41, 37], (7,6))"
   ]
  },
  {
   "cell_type": "code",
   "execution_count": null,
   "metadata": {},
   "outputs": [],
   "source": [
    "np.unravel_index(6, (3, 4))"
   ]
  },
  {
   "cell_type": "code",
   "execution_count": null,
   "metadata": {},
   "outputs": [],
   "source": [
    "a, b = np.unravel_index([22, 41, 37], (7,6))\n",
    "print(a)\n",
    "print(b)"
   ]
  },
  {
   "cell_type": "code",
   "execution_count": null,
   "metadata": {},
   "outputs": [],
   "source": [
    "yesterday = np.datetime64('today', 'D') - np.timedelta64(1, 'D')\n",
    "today     = np.datetime64('today', 'D')\n",
    "tomorrow  = np.datetime64('today', 'D') + np.timedelta64(1, 'D')\n",
    "print(yesterday)\n",
    "print(today)\n",
    "print(tomorrow)"
   ]
  },
  {
   "cell_type": "code",
   "execution_count": null,
   "metadata": {},
   "outputs": [],
   "source": [
    "Z = np.arange('2016-07', '2016-08', dtype='datetime64[W]')\n",
    "print(Z)"
   ]
  },
  {
   "cell_type": "code",
   "execution_count": null,
   "metadata": {},
   "outputs": [],
   "source": [
    "np.array([2, 4, 5]) * np.array([4, 5, 7])"
   ]
  },
  {
   "cell_type": "code",
   "execution_count": 114,
   "metadata": {},
   "outputs": [
    {
     "name": "stdout",
     "output_type": "stream",
     "text": [
      "-9223372036854775808\n",
      "9223372036854775807\n",
      "-128\n",
      "127\n",
      "-2147483648\n",
      "2147483647\n",
      "-9223372036854775808\n",
      "9223372036854775807\n",
      "-65500.0\n",
      "65500.0\n",
      "0.000977\n"
     ]
    }
   ],
   "source": [
    "for dtype in [np.int, np.int8, np.int32, np.int64]:\n",
    "   print(np.iinfo(dtype).min)\n",
    "   print(np.iinfo(dtype).max)\n",
    "for dtype in [np.float16]:\n",
    "   print(np.finfo(dtype).min)\n",
    "   print(np.finfo(dtype).max)\n",
    "   print(np.finfo(dtype).eps)"
   ]
  },
  {
   "cell_type": "code",
   "execution_count": 155,
   "metadata": {},
   "outputs": [
    {
     "name": "stdout",
     "output_type": "stream",
     "text": [
      "[10 20 30 40 50 60 70 80 90]\n",
      "[50 60 70 80 90]\n"
     ]
    },
    {
     "data": {
      "text/plain": [
       "array([2, 6])"
      ]
     },
     "execution_count": 155,
     "metadata": {},
     "output_type": "execute_result"
    }
   ],
   "source": [
    "a = np.arange(10, 100, 10)\n",
    "print(a)\n",
    "index = np.where(np.logical_and(a>=50, a<=100))\n",
    "print(a[index])\n",
    "a[np.logical_and(a>=50, a<= 100)]\n",
    "\n",
    "\n",
    "b = np.array([1, 2, 3, 4, 5, 6])\n",
    "b[np.array([1, 5])]"
   ]
  },
  {
   "cell_type": "code",
   "execution_count": 156,
   "metadata": {},
   "outputs": [
    {
     "name": "stdout",
     "output_type": "stream",
     "text": [
      "Numpy.ipynb  data.csv\r\n"
     ]
    }
   ],
   "source": [
    "%ls"
   ]
  },
  {
   "cell_type": "code",
   "execution_count": 170,
   "metadata": {
    "scrolled": false
   },
   "outputs": [
    {
     "name": "stdout",
     "output_type": "stream",
     "text": [
      "[[    nan     nan 211973.     nan]\n",
      " [    nan     nan 214277.     nan]\n",
      " [    nan     nan 201253.     nan]\n",
      " [    nan     nan 203435.     nan]\n",
      " [    nan     nan 210154.     nan]\n",
      " [    nan     nan 204433.     nan]\n",
      " [    nan     nan 207608.     nan]\n",
      " [    nan     nan 207256.     nan]\n",
      " [    nan     nan 207471.     nan]\n",
      " [    nan     nan 209130.     nan]\n",
      " [    nan     nan 209198.     nan]\n",
      " [    nan     nan 216656.     nan]\n",
      " [    nan     nan 213997.     nan]\n",
      " [    nan     nan 210873.     nan]\n",
      " [    nan     nan 203317.     nan]\n",
      " [    nan     nan 206904.     nan]\n",
      " [    nan     nan 207997.     nan]\n",
      " [    nan     nan 213185.     nan]\n",
      " [    nan     nan 212517.     nan]\n",
      " [    nan     nan 214568.     nan]\n",
      " [    nan     nan 213928.     nan]\n",
      " [    nan     nan 217356.     nan]\n",
      " [    nan     nan 209417.     nan]\n",
      " [    nan     nan 207664.     nan]\n",
      " [    nan     nan 207518.     nan]\n",
      " [    nan     nan 205679.     nan]\n",
      " [    nan     nan 216272.     nan]\n",
      " [    nan     nan 216253.     nan]\n",
      " [    nan     nan 213244.     nan]\n",
      " [    nan     nan 217209.     nan]\n",
      " [    nan     nan 218266.     nan]\n",
      " [    nan     nan 214856.     nan]\n",
      " [    nan     nan 212838.     nan]\n",
      " [    nan     nan 212712.     nan]\n",
      " [    nan     nan 220021.     nan]\n",
      " [    nan     nan 218884.     nan]\n",
      " [    nan     nan 214756.     nan]\n",
      " [    nan     nan 221049.     nan]\n",
      " [    nan     nan 222582.     nan]\n",
      " [    nan     nan 222876.     nan]\n",
      " [    nan     nan 228732.     nan]\n",
      " [    nan     nan 231145.     nan]\n",
      " [    nan     nan 230628.     nan]\n",
      " [    nan     nan 232061.     nan]\n",
      " [    nan     nan 232504.     nan]\n",
      " [    nan     nan 230970.     nan]\n",
      " [    nan     nan 231960.     nan]\n",
      " [    nan     nan 236145.     nan]\n",
      " [    nan     nan 237035.     nan]\n",
      " [    nan     nan 240874.     nan]\n",
      " [    nan     nan 245347.     nan]\n",
      " [    nan     nan 248746.     nan]\n",
      " [    nan     nan 247605.     nan]\n",
      " [    nan     nan 251575.     nan]\n",
      " [    nan     nan 252504.     nan]\n",
      " [    nan     nan 249155.     nan]\n",
      " [    nan     nan 248906.     nan]\n",
      " [    nan     nan 250595.     nan]\n",
      " [    nan     nan 254286.     nan]\n",
      " [    nan     nan 263503.     nan]\n",
      " [    nan     nan 273573.     nan]\n",
      " [    nan     nan 268434.     nan]\n",
      " [    nan     nan 271615.     nan]\n",
      " [    nan     nan 274663.     nan]\n",
      " [    nan     nan 282034.     nan]\n",
      " [    nan     nan 280492.     nan]\n",
      " [    nan     nan 281330.     nan]\n",
      " [    nan     nan 285589.     nan]\n",
      " [    nan     nan 290053.     nan]\n",
      " [    nan     nan 288717.     nan]\n",
      " [    nan     nan 291628.     nan]\n",
      " [    nan     nan 289482.     nan]\n",
      " [    nan     nan 286970.     nan]\n",
      " [    nan     nan 292327.     nan]\n",
      " [    nan     nan 299540.     nan]\n",
      " [    nan     nan 297038.     nan]\n",
      " [    nan     nan 297896.     nan]\n",
      " [    nan     nan 300053.     nan]\n",
      " [    nan     nan 302727.     nan]\n",
      " [    nan     nan 305899.     nan]\n",
      " [    nan     nan 300748.     nan]\n",
      " [    nan     nan 306812.     nan]\n",
      " [    nan     nan 309153.     nan]\n",
      " [    nan     nan 304622.     nan]\n",
      " [    nan     nan 301899.     nan]\n",
      " [    nan     nan 313191.     nan]\n",
      " [    nan     nan 317598.     nan]\n",
      " [    nan     nan 311619.     nan]\n",
      " [    nan     nan 309864.     nan]\n",
      " [    nan     nan 313078.     nan]\n",
      " [    nan     nan 314092.     nan]\n",
      " [    nan     nan 306447.     nan]\n",
      " [    nan     nan 302497.     nan]\n",
      " [    nan     nan 299576.     nan]\n",
      " [    nan     nan 294604.     nan]\n",
      " [    nan     nan 291538.     nan]\n",
      " [    nan     nan 287272.     nan]\n",
      " [    nan     nan 281923.     nan]\n",
      " [    nan     nan 288734.     nan]\n",
      " [    nan     nan 296433.     nan]\n",
      " [    nan     nan 299047.     nan]\n",
      " [    nan     nan 300922.     nan]\n",
      " [    nan     nan 293532.     nan]\n",
      " [    nan     nan 297541.     nan]\n",
      " [    nan     nan 304024.     nan]\n",
      " [    nan     nan 294920.     nan]\n",
      " [    nan     nan 287429.     nan]\n",
      " [    nan     nan 281837.     nan]\n",
      " [    nan     nan 282968.     nan]\n",
      " [    nan     nan 278448.     nan]\n",
      " [    nan     nan 281492.     nan]\n",
      " [    nan     nan 274964.     nan]\n",
      " [    nan     nan 273908.     nan]\n",
      " [    nan     nan 276482.     nan]\n",
      " [    nan     nan 271196.     nan]\n",
      " [    nan     nan 279825.     nan]\n",
      " [    nan     nan 281529.     nan]\n",
      " [    nan     nan 276573.     nan]\n",
      " [    nan     nan 280487.     nan]\n",
      " [    nan     nan 281789.     nan]\n",
      " [    nan     nan 277655.     nan]\n",
      " [    nan     nan 276474.     nan]\n",
      " [    nan     nan 273879.     nan]\n",
      " [    nan     nan 271839.     nan]\n",
      " [    nan     nan 276528.     nan]\n",
      " [    nan     nan 280108.     nan]\n",
      " [    nan     nan 274815.     nan]\n",
      " [    nan     nan 274695.     nan]\n",
      " [    nan     nan 267974.     nan]\n",
      " [    nan     nan 269283.     nan]\n",
      " [    nan     nan 268768.     nan]\n",
      " [    nan     nan 260684.     nan]\n",
      " [    nan     nan 260153.     nan]\n",
      " [    nan     nan 265375.     nan]\n",
      " [    nan     nan 254966.     nan]\n",
      " [    nan     nan 264528.     nan]\n",
      " [    nan     nan 264200.     nan]\n",
      " [    nan     nan 265821.     nan]\n",
      " [    nan     nan 267622.     nan]\n",
      " [    nan     nan 267956.     nan]\n",
      " [    nan     nan 266811.     nan]\n",
      " [    nan     nan 267308.     nan]\n",
      " [    nan     nan 264306.     nan]\n",
      " [    nan     nan 262815.     nan]\n",
      " [    nan     nan 260007.     nan]\n",
      " [    nan     nan 257750.     nan]\n",
      " [    nan     nan 260174.     nan]\n",
      " [    nan     nan 267838.     nan]\n",
      " [    nan     nan 270560.     nan]\n",
      " [    nan     nan 270325.     nan]\n",
      " [    nan     nan 278126.     nan]\n",
      " [    nan     nan 275758.     nan]\n",
      " [    nan     nan 270801.     nan]\n",
      " [    nan     nan 282479.     nan]\n",
      " [    nan     nan 272816.     nan]\n",
      " [    nan     nan 277308.     nan]\n",
      " [    nan     nan 269397.     nan]\n",
      " [    nan     nan 270794.     nan]\n",
      " [    nan     nan 273855.     nan]\n",
      " [    nan     nan 284012.     nan]\n",
      " [    nan     nan 286194.     nan]\n",
      " [    nan     nan 293553.     nan]\n",
      " [    nan     nan 292703.     nan]\n",
      " [    nan     nan 294344.     nan]\n",
      " [    nan     nan 288441.     nan]\n",
      " [    nan     nan 280573.     nan]\n",
      " [    nan     nan 275671.     nan]\n",
      " [    nan     nan 282143.     nan]\n",
      " [    nan     nan 294885.     nan]\n",
      " [    nan     nan 294411.     nan]\n",
      " [    nan     nan 291828.     nan]\n",
      " [    nan     nan 287725.     nan]\n",
      " [    nan     nan 285760.     nan]\n",
      " [    nan     nan 291831.     nan]\n",
      " [    nan     nan 281694.     nan]\n",
      " [    nan     nan 278721.     nan]\n",
      " [    nan     nan 282834.     nan]\n",
      " [    nan     nan 282374.     nan]\n",
      " [    nan     nan 285636.     nan]\n",
      " [    nan     nan 280195.     nan]\n",
      " [    nan     nan 272391.     nan]\n",
      " [    nan     nan 279422.     nan]\n",
      " [    nan     nan 280624.     nan]\n",
      " [    nan     nan 272929.     nan]\n",
      " [    nan     nan 283448.     nan]\n",
      " [    nan     nan 276903.     nan]\n",
      " [    nan     nan 274706.     nan]\n",
      " [    nan     nan 271455.     nan]\n",
      " [    nan     nan 271813.     nan]\n",
      " [    nan     nan 279488.     nan]\n",
      " [    nan     nan 279441.     nan]\n",
      " [    nan     nan 282578.     nan]\n",
      " [    nan     nan 283693.     nan]\n",
      " [    nan     nan 285475.     nan]\n",
      " [    nan     nan 288561.     nan]\n",
      " [    nan     nan 292784.     nan]\n",
      " [    nan     nan 300632.     nan]\n",
      " [    nan     nan 298898.     nan]\n",
      " [    nan     nan 303803.     nan]\n",
      " [    nan     nan 309877.     nan]]\n"
     ]
    }
   ],
   "source": [
    "spending = np.genfromtxt(\"data.csv\", delimiter=\",\")\n",
    "print(spending)"
   ]
  },
  {
   "cell_type": "code",
   "execution_count": 174,
   "metadata": {},
   "outputs": [
    {
     "name": "stdout",
     "output_type": "stream",
     "text": [
      "317598.0\n",
      "201253.0\n",
      "265257.655\n",
      "31641.052112974612\n",
      "[203435.]\n"
     ]
    }
   ],
   "source": [
    "print(spending[:,2].max())\n",
    "print(spending[:,2].min())\n",
    "print(spending[:,2].mean())\n",
    "print(spending[:,2].std())\n",
    "\n"
   ]
  },
  {
   "cell_type": "code",
   "execution_count": null,
   "metadata": {},
   "outputs": [],
   "source": []
  }
 ],
 "metadata": {
  "kernelspec": {
   "display_name": "Python 3",
   "language": "python",
   "name": "python3"
  },
  "language_info": {
   "codemirror_mode": {
    "name": "ipython",
    "version": 3
   },
   "file_extension": ".py",
   "mimetype": "text/x-python",
   "name": "python",
   "nbconvert_exporter": "python",
   "pygments_lexer": "ipython3",
   "version": "3.6.5"
  }
 },
 "nbformat": 4,
 "nbformat_minor": 2
}
